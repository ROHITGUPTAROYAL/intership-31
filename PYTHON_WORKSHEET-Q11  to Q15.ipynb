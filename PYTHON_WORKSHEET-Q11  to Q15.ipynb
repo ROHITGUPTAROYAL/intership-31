{
 "cells": [
  {
   "cell_type": "code",
   "execution_count": 1,
   "id": "28e1f601",
   "metadata": {},
   "outputs": [
    {
     "name": "stdout",
     "output_type": "stream",
     "text": [
      "Factorial of 4 is 24\n"
     ]
    }
   ],
   "source": [
    "# Question 11 Write a python program to find the factorial of a number\n",
    "\n",
    "def factorial(n):\n",
    "    return 1 if (n==1 or n==0) else n* factorial(n-1);\n",
    "num=4\n",
    "print('Factorial of',4, 'is',\n",
    "     factorial(4))"
   ]
  },
  {
   "cell_type": "code",
   "execution_count": 2,
   "id": "04af99a9",
   "metadata": {},
   "outputs": [
    {
     "name": "stdout",
     "output_type": "stream",
     "text": [
      "Enter number : 9\n",
      "9  => Composite Number\n"
     ]
    }
   ],
   "source": [
    "# Question 12 Write a python program to find whether a number is prime or composite.\n",
    "\n",
    "number = int(input(\"Enter number : \"))\n",
    "if number == 0 or number == 1:\n",
    "    print(number,\" => Neither prime nor composite\")\n",
    "else:\n",
    "    for i in range(2,number):\n",
    "        if(number % i == 0):\n",
    "            print(number,\" => Composite Number\")\n",
    "            break\n",
    "    else:\n",
    "        print(number,\" => Prime Number\")"
   ]
  },
  {
   "cell_type": "code",
   "execution_count": 3,
   "id": "8cce83e8",
   "metadata": {},
   "outputs": [
    {
     "name": "stdout",
     "output_type": "stream",
     "text": [
      "Yes\n"
     ]
    }
   ],
   "source": [
    "# Question 13 Write a python program to check whether a given string is palindrome or not.\n",
    "\n",
    "x = \"dad\"\n",
    " \n",
    "w = \"\"\n",
    "for i in x:\n",
    "    w = i + w\n",
    " \n",
    "if (x == w):\n",
    "    print(\"Yes\")\n",
    "else:\n",
    "    print(\"No\")"
   ]
  },
  {
   "cell_type": "code",
   "execution_count": 2,
   "id": "160a0ce3",
   "metadata": {},
   "outputs": [
    {
     "name": "stdout",
     "output_type": "stream",
     "text": [
      "Enter base: 5.6\n",
      "Enter height: 5.7\n",
      "Enter angle: 90\n",
      "Hypotenuse = 7.99061950038919\n"
     ]
    }
   ],
   "source": [
    "# Question 14 Write a Python program to get the third side of right-angled triangle from two given sides.\n",
    "\n",
    "import math\n",
    "\n",
    "a = float(input(\"Enter base: \"))\n",
    "b = float(input(\"Enter height: \"))\n",
    "x = float(input(\"Enter angle: \"))\n",
    "\n",
    "c = math.sqrt(a ** 2 + b ** 2)\n",
    "\n",
    "print(\"Hypotenuse =\", c)"
   ]
  },
  {
   "cell_type": "code",
   "execution_count": 5,
   "id": "670b182b",
   "metadata": {},
   "outputs": [
    {
     "name": "stdout",
     "output_type": "stream",
     "text": [
      "Enter the string --ROHIT GUPTA\n",
      "{'R': 1, 'O': 1, 'H': 1, 'I': 1, 'T': 2, ' ': 1, 'G': 1, 'U': 1, 'P': 1, 'A': 1}\n"
     ]
    }
   ],
   "source": [
    "# Question 15 Write a python program to print the frequency of each of the characters present in a given string.\n",
    "\n",
    "str =  input(\"Enter the string --\")\n",
    "\n",
    "dict = {}\n",
    "\n",
    "for i in str:\n",
    " \n",
    "    if i in dict:\n",
    "        dict[i] += 1\n",
    "\n",
    "    else:\n",
    "        dict[i] = 1\n",
    "\n",
    "print(dict)"
   ]
  }
 ],
 "metadata": {
  "kernelspec": {
   "display_name": "Python 3 (ipykernel)",
   "language": "python",
   "name": "python3"
  },
  "language_info": {
   "codemirror_mode": {
    "name": "ipython",
    "version": 3
   },
   "file_extension": ".py",
   "mimetype": "text/x-python",
   "name": "python",
   "nbconvert_exporter": "python",
   "pygments_lexer": "ipython3",
   "version": "3.9.7"
  }
 },
 "nbformat": 4,
 "nbformat_minor": 5
}
